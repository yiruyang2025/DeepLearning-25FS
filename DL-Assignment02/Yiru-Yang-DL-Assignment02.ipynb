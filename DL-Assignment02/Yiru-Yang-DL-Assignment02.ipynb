{
  "cells": [
    {
      "attachments": {},
      "cell_type": "markdown",
      "metadata": {
        "id": "9jiIATcpFsPc"
      },
      "source": [
        "### Group Members:\n",
        "\n",
        "- Name, matriculation number\n",
        "- Name, matriculation number\n",
        "- Name, matriculation number"
      ]
    },
    {
      "attachments": {},
      "cell_type": "markdown",
      "metadata": {
        "id": "FcStVd7x1zL3"
      },
      "source": [
        "# Assignment 2: Binary and Categorical Classification\n",
        "\n",
        "For this assignment, we will use a similar two-layer network as Assignment 1 to implement binary and categorical classification using only `NumPy` package, without relying on `PyTorch` or any deep learning libraries.\n",
        "\n",
        "We will implement Binary Cross Entropy Loss and Categorical Cross Entropy Loss and their gradient manually with efficient matrix computation, and evaluate accuracy for two classification tasks.  \n"
      ]
    },
    {
      "attachments": {},
      "cell_type": "markdown",
      "metadata": {
        "id": "sIA1V8sU2W2W"
      },
      "source": [
        "## Theoretical Questions\n",
        "\n",
        "We will build and train a two-layer network similar to Assignment 1.\n",
        "Besides, we will apply **Logistic Function** ($\\sigma$) on the logits for binary classification and **Stable Softmax Function** ($\\tilde{\\mathcal S}$) on the logits for categorical classification.\n",
        "\n",
        "Questions in this section concern:\n",
        "\n",
        "1. Comparison between normal softmax $\\mathcal S$ and stable softmax $\\tilde{\\mathcal S}$\n",
        "2. Compute derivative of $\\tilde{\\mathcal S}$ that should be applied in the coding section\n",
        "3. Weight/Parameter Initialization\n",
        "4. Discussion on Evaluation Metrics of classification tasks"
      ]
    },
    {
      "attachments": {},
      "cell_type": "markdown",
      "metadata": {
        "id": "DmECZG_U39zs"
      },
      "source": [
        "### Task 1.1 Proof of Stable Softmax\n",
        "\n",
        "The softmax function is defined as:\n",
        "\n",
        "$$\n",
        "\\mathcal S(z_o) = \\frac{e^{z_o}}{\\sum\\limits_{o'} e^{z_{o'}}}\n",
        "$$\n",
        "\n",
        "However, when $ z_o $ has large values, the exponential $ e^{z_o} $ may grow too large, leading to numerical instability (e.g., overflow issues).\n",
        "To improve stability, we introduce the **stable softmax**:\n",
        "\n",
        "$$\n",
        "\\tilde{\\mathcal S}(z_o) = \\frac{e^{z_o - z_{\\max}}}{\\sum\\limits_{o'} e^{z_{o'} - z_{\\max}}}\n",
        "$$\n",
        "\n",
        "where $z_{\\max} = \\max\\limits_o z_o$.\n",
        "\n",
        "Prove that stable softmax is mathematically equivalent to the original softmax function.\n",
        "\n",
        "Discuss how stable softmax improves numerical stability, for instance, what will happen when $z_o$ is too large, or too small?"
      ]
    },
    {
      "attachments": {},
      "cell_type": "markdown",
      "metadata": {
        "id": "gElE0oDt4nTW"
      },
      "source": [
        "Answer: ..."
      ]
    },
    {
      "attachments": {},
      "cell_type": "markdown",
      "metadata": {
        "id": "dF71qySq1qhn"
      },
      "source": [
        "### Task 1.2 Derivative of Stable Softmax\n",
        "\n",
        "\n",
        "Recall that in the lecture slides, when we compute gradient with respect to $w^{(1)}$ and $w^{(2)}$, as part of the chain rule, we replace $\\frac{\\partial\\mathcal J^{[n]}}{\\partial\\mathcal y_o^{[n]}}\\frac{\\partial\\mathcal y_o^{[n]}}{\\partial\\mathcal z_o^{[n]}}$ by $\\frac{\\partial\\mathcal J^{[n]}}{\\partial\\mathcal z_o^{[n]}}$ when we choose a good activation function.\n",
        "\n",
        "When normal softmax is applied, we have $\\frac{\\partial\\mathcal J^{[n]}}{\\partial\\mathcal z_o^{[n]}} = y_o^{[n]} - t_o^{[n]}$. Prove that $\\frac{\\partial\\mathcal J^{[n]}}{\\partial\\mathcal z_o^{[n]}}$ will return the same format when the activation function is stable softmax.\n",
        "\n"
      ]
    },
    {
      "attachments": {},
      "cell_type": "markdown",
      "metadata": {
        "id": "bUlc_2ta5bF1"
      },
      "source": [
        "Answer: ..."
      ]
    },
    {
      "attachments": {},
      "cell_type": "markdown",
      "metadata": {
        "id": "O-QbnR__zCJB"
      },
      "source": [
        "### Task 1.3 Weight Initialization\n",
        "\n",
        "Why do we need to randomly initialize the weights before training starts?\n",
        "\n",
        "1. Proof that a network with constantly initialized weights perform like a network with one hidden unit.\n",
        "2. Show that gradient decent is not able to change this behavior and will keep all neurons in the hidden layer identical throughout training."
      ]
    },
    {
      "attachments": {},
      "cell_type": "markdown",
      "metadata": {
        "id": "uBmFHEbvNoT7"
      },
      "source": [
        "### Task 1.4 Evaluation Metrics\n",
        "\n",
        "If a binary classifier achieves an accuracy greater than 90%, see example plot in the OLAT, does this always indicate good performance? Might high accuracy in this binary classification be misleading? \n",
        "\n",
        "What alternative evaluation approaches could better capture model performance in such scenarios?\n",
        "\n"
      ]
    },
    {
      "attachments": {},
      "cell_type": "markdown",
      "metadata": {
        "id": "DRDxQW4xy2E3"
      },
      "source": [
        "Answer: ..."
      ]
    },
    {
      "attachments": {},
      "cell_type": "markdown",
      "metadata": {
        "id": "hi5N_hI79qkF"
      },
      "source": [
        "## Coding\n",
        "\n",
        "**<font color='red' size='5'>This section has to be submitted by 11:59 p.m. on Wednesday, March 26, to be graded.</font>**"
      ]
    },
    {
      "attachments": {},
      "cell_type": "markdown",
      "metadata": {
        "id": "E-n2m59B4iP8"
      },
      "source": [
        "### Dataset\n",
        "\n",
        "We will use two different datasets, the *churn* dataset https://archive.ics.uci.edu/dataset/563/iranian+churn+dataset for a binary classification and the *winequality-red* dataset https://archive.ics.uci.edu/dataset/186/wine+quality for a categorical classification. Both datasets are available on the UCI Machine Learning repository.\n",
        "\n",
        "The binary classification dataset contains features extracted from customers of a telecommunication company, which are classified as either churn or not.\n",
        "The categorical classification dataset contains chemical measurements for seven distinct qualities of a Portuguese white wine.\n",
        "In the former dataset, the class is indicated in the final column named \"Churn\", whereas for the latter, target information is provided in the last column named \"quality.\"\n",
        "\n",
        "Please run the code block below to download the data files."
      ]
    },
    {
      "cell_type": "code",
      "execution_count": 1,
      "metadata": {
        "id": "5Shd71QB4iP_"
      },
      "outputs": [
        {
          "name": "stdout",
          "output_type": "stream",
          "text": [
            "Downloaded churn_data.zip successfully.\n",
            "File 'churn_data.csv' already extracted. Skipping extraction.\n",
            "File 'winequality-red.csv' already exists. Skipping download.\n"
          ]
        }
      ],
      "source": [
        "import os\n",
        "import zipfile\n",
        "import urllib.request\n",
        "\n",
        "# Download the two dataset files\n",
        "dataset_files = {\n",
        "    \"churn_data.zip\": \"https://archive.ics.uci.edu/static/public/563/iranian+churn+dataset.zip\",\n",
        "    \"winequality-red.csv\": \"https://archive.ics.uci.edu/ml/machine-learning-databases/wine-quality/winequality-red.csv\"\n",
        "}\n",
        "\n",
        "for name, url in dataset_files.items():\n",
        "    base, extension = os.path.splitext(name)  # Get file name without extension\n",
        "\n",
        "    if os.path.exists(name):\n",
        "        print(f\"File '{name}' already exists. Skipping download.\")\n",
        "    else:\n",
        "        # Download the file\n",
        "        urllib.request.urlretrieve(url, name)\n",
        "        print(f\"Downloaded {name} successfully.\")\n",
        "\n",
        "    # Check if it's a zip file and if it has been extracted\n",
        "    if extension == \".zip\":\n",
        "        extracted_file = os.path.join(base + \".csv\")  # Expected extracted file name\n",
        "\n",
        "        if not os.path.exists(extracted_file):\n",
        "            with zipfile.ZipFile(name, 'r') as zip_ref:\n",
        "                zip_ref.extractall()\n",
        "            print(f\"Extracted {name} successfully.\")\n",
        "\n",
        "            # Rename the extracted file\n",
        "            os.rename(\"Customer Churn.csv\", extracted_file)\n",
        "        else:\n",
        "            print(f\"File '{extracted_file}' already extracted. Skipping extraction.\")\n"
      ]
    },
    {
      "attachments": {},
      "cell_type": "markdown",
      "metadata": {
        "id": "ySwkAKSM4iQA"
      },
      "source": [
        "#### Task 2.1: Dataset Loading\n",
        "\n",
        "The first task deals with the loading of the datasets.\n",
        "When training networks in `NumPy`, all data needs to be stored as NumPy arrays.\n",
        "The data should be split between input matrix $\\mathbf X \\in \\mathbb R^{D\\times N}$ and target matrix $\\mathbf T \\in \\mathbb R^{O\\times N}$.\n",
        "We need to **add a bias neuron to the input** so that we have $\\mathbf X \\in \\mathbb R^{(D+1)\\times N}$\n",
        "\n",
        "\n",
        "<!-- For the targets, we have to be more careful as there are differences w.r.t. the applied loss function.\n",
        "\n",
        "*   For binary classification, we need $\\mathbf T \\in \\mathbb R^{1\\times N}$.\n",
        "*   For categorical classification, we only need the class indexes $\\vec t = [t^{[1]}, \\ldots, t^{[N]}]$ to be in dimension $\\mathbb N^N$. -->\n",
        "\n",
        "\n",
        "Implement a function that returns both the input and the target data for a given dataset.\n",
        "\n",
        "Note:\n",
        "\n",
        "1. You can use `csv.reader()` to read the dataset, or rely on other methods such as `pandas`\n",
        "2. Please note that in the wine dataset CSV file, all values are separated by `;`, whereas in the churn dataset, they are separated by `,`\n",
        "3. For the wine dataset, convert 6 target values into a one-hot matrix so that the dimension is $\\mathbb R^{6\\times N}$. **Be aware that the target values in the wine dataset do not start at index 0.**"
      ]
    },
    {
      "cell_type": "code",
      "execution_count": 2,
      "metadata": {
        "id": "mnlXaDVVDMd2"
      },
      "outputs": [
        {
          "ename": "ModuleNotFoundError",
          "evalue": "No module named 'numpy'",
          "output_type": "error",
          "traceback": [
            "\u001b[0;31m---------------------------------------------------------------------------\u001b[0m",
            "\u001b[0;31mModuleNotFoundError\u001b[0m                       Traceback (most recent call last)",
            "Cell \u001b[0;32mIn[2], line 1\u001b[0m\n\u001b[0;32m----> 1\u001b[0m \u001b[38;5;28;01mimport\u001b[39;00m\u001b[38;5;250m \u001b[39m\u001b[38;5;21;01mnumpy\u001b[39;00m\u001b[38;5;250m \u001b[39m\u001b[38;5;28;01mas\u001b[39;00m\u001b[38;5;250m \u001b[39m\u001b[38;5;21;01mnp\u001b[39;00m\n\u001b[1;32m      2\u001b[0m \u001b[38;5;28;01mimport\u001b[39;00m\u001b[38;5;250m \u001b[39m\u001b[38;5;21;01mcsv\u001b[39;00m\n\u001b[1;32m      4\u001b[0m \u001b[38;5;28;01mdef\u001b[39;00m\u001b[38;5;250m \u001b[39m\u001b[38;5;21mdataset\u001b[39m(dataset_file\u001b[38;5;241m=\u001b[39m\u001b[38;5;124m\"\u001b[39m\u001b[38;5;124mwinequality-red.csv\u001b[39m\u001b[38;5;124m\"\u001b[39m, delimiter\u001b[38;5;241m=\u001b[39m\u001b[38;5;124m\"\u001b[39m\u001b[38;5;124m;\u001b[39m\u001b[38;5;124m\"\u001b[39m):\n\u001b[1;32m      5\u001b[0m     \u001b[38;5;66;03m# read dataset\u001b[39;00m\n",
            "\u001b[0;31mModuleNotFoundError\u001b[0m: No module named 'numpy'"
          ]
        }
      ],
      "source": [
        "import numpy as np\n",
        "import csv\n",
        "\n",
        "def dataset(dataset_file=\"winequality-red.csv\", delimiter=\";\"):\n",
        "    # read dataset\n",
        "    data = []\n",
        "    with open(dataset_file, 'r') as f:\n",
        "        reader = csv.reader(f, delimiter=delimiter)\n",
        "        next(reader)  # Skip header row\n",
        "        for row in reader:\n",
        "            data.append([float(x) for x in row])\n",
        "\n",
        "    print(f\"Loaded dataset with {len(data)} samples\")\n",
        "\n",
        "    # Convert to NumPy array\n",
        "    data = np.array(data)\n",
        "\n",
        "    # Get the input (data samples) - all columns except the last one\n",
        "    X = data[:, :-1].T  # Transpose to get shape (D×N)\n",
        "    \n",
        "    # Insert bias neuron (add a row of ones) to the input\n",
        "    bias = np.ones((1, X.shape[1]))\n",
        "    X = np.vstack((X, bias))\n",
        "\n",
        "    if dataset_file == \"winequality-red.csv\":\n",
        "        # target is in the last column and needs to be converted into one-hot format\n",
        "        # Wine quality values range from 3 to 8 (6 classes)\n",
        "        target_values = data[:, -1].astype(int)\n",
        "        \n",
        "        # Adjust for zero-indexing (target values start from 3, not 0)\n",
        "        min_quality = 3\n",
        "        num_classes = 6\n",
        "        \n",
        "        # Create one-hot encoding\n",
        "        T = np.zeros((num_classes, len(target_values)))\n",
        "        for i, val in enumerate(target_values):\n",
        "            T[val - min_quality, i] = 1.0\n",
        "    else:\n",
        "        # target is in the last column and needs to be of type float\n",
        "        T = data[:, -1].astype(float).reshape(1, -1)  # Shape (1×N)\n",
        "\n",
        "    return X, T"
      ]
    },
    {
      "attachments": {},
      "cell_type": "markdown",
      "metadata": {
        "id": "15Su4txz4iQB"
      },
      "source": [
        "#### Test 1: Assert Valid Outputs\n",
        "\n",
        "\n",
        "1. For the churn data, we assure that all dimensions are correct and that class labels are in $\\{0, 1\\}$.\n",
        "\n",
        "2. For the wine dataset, we make sure that the dataset is in the correct dimensions, i.e., $\\mathbf X\\in \\mathbb R^{(D+1)\\times N}$ and $\\mathbf T \\in \\mathbb N^{O\\times N}$. We verify that each sample in $\\mathbf T$ has exactly one active class (one-hot encoding)."
      ]
    },
    {
      "cell_type": "code",
      "execution_count": null,
      "metadata": {
        "colab": {
          "base_uri": "https://localhost:8080/"
        },
        "id": "5JsZT_cmTgBA",
        "outputId": "608efddd-199f-4988-e685-5f3796c6eee4"
      },
      "outputs": [
        {
          "name": "stdout",
          "output_type": "stream",
          "text": [
            "Loaded dataset with 3150 samples\n",
            "Loaded dataset with 1599 samples\n"
          ]
        }
      ],
      "source": [
        "# Load datasets using the dataset function\n",
        "X, T = dataset(\"churn_data.csv\", \",\")\n",
        "\n",
        "# Assert checks for the churn dataset\n",
        "assert X.shape[0] == 14, X.shape[0]\n",
        "assert T.shape[0] == 1, T.shape[0]\n",
        "assert np.all(T >= 0) and np.all(T <= 1)\n",
        "assert T.dtype == np.float64\n",
        "\n",
        "# Load wine dataset\n",
        "X, T = dataset(\"winequality-red.csv\", \";\")\n",
        "\n",
        "# Assert checks for the winequality-red dataset\n",
        "assert X.shape[0] == 12, X.shape[0]\n",
        "assert T.shape[0] == 6, T.shape[0]\n",
        "# assert numpy.all(T >= 0) and numpy.all(T <= 1)\n",
        "assert np.all(np.sum(T, axis=0) == 1), \"Error: Some samples are not correctly one-hot encoded!\" # ensures that each column sums to exactly 1\n",
        "assert T.dtype == np.float64"
      ]
    },
    {
      "attachments": {},
      "cell_type": "markdown",
      "metadata": {
        "id": "bSHMBMNN4iQB"
      },
      "source": [
        "#### Task 2.2: Split Training and Validation Data\n",
        "\n",
        "\n",
        "The data should be split into 80% for training and 20% for validation. Implement a function that takes the full dataset $(X,T)$ and returns $(X_t, T_t, X_v, T_v)$ accordingly.\n",
        "\n",
        "Write a function that splits off training and validation samples from a given dataset. **What do we need to assure before splitting?**\n"
      ]
    },
    {
      "cell_type": "code",
      "execution_count": null,
      "metadata": {
        "id": "9bhG1l6CD4gm"
      },
      "outputs": [],
      "source": [
        "def split_training_data(X, T, train_percentage=0.8):\n",
        "    # Get the number of samples\n",
        "    n_samples = X.shape[1]\n",
        "    \n",
        "    # Randomly shuffle the indices\n",
        "    indices = np.random.permutation(n_samples)\n",
        "    \n",
        "    # Calculate how many samples to use for training\n",
        "    n_train = int(n_samples * train_percentage)\n",
        "    \n",
        "    # Get training indices and validation indices\n",
        "    train_indices = indices[:n_train]\n",
        "    val_indices = indices[n_train:]\n",
        "    \n",
        "    # Split the data\n",
        "    X_train = X[:, train_indices]\n",
        "    T_train = T[:, train_indices]\n",
        "    X_val = X[:, val_indices]\n",
        "    T_val = T[:, val_indices]\n",
        "    \n",
        "    return X_train, T_train, X_val, T_val"
      ]
    },
    {
      "attachments": {},
      "cell_type": "markdown",
      "metadata": {
        "id": "Sk6_LL4X4iQC"
      },
      "source": [
        "#### Task 2.3: Input Data Normalization\n",
        "\n",
        "\n",
        "Since the data is in different input regimes, we want to normalize the data.\n",
        "\n",
        "Implement a function that normalizes all input data using the whitening method with given mean and standard deviation.\n",
        "$$X_{norm} = \\frac{X-\\mu}{\\sigma}$$\n",
        "Compute the mean ($\\mu$) and the standard deviation ($\\sigma$) for your dataset.\n",
        "Make sure that you handle the bias neuron $x_0$ correctly.\n",
        "Finally, normalize your input data using the implemented function.\n",
        "\n",
        "Note: Use `numpy.mean()` and `numpy.std()` with the correct dimensions."
      ]
    },
    {
      "cell_type": "code",
      "execution_count": null,
      "metadata": {
        "id": "Eizcv6sqjpP0"
      },
      "outputs": [],
      "source": [
        "def normalize(X_train, X_val):\n",
        "    # Get the input dimension (excluding bias)\n",
        "    input_dim = X_train.shape[0] - 1  # Last row is bias\n",
        "    \n",
        "    # Compute statistics (mean and std) for each feature using only training data\n",
        "    # We only use features (not bias), so we select rows 0 to input_dim\n",
        "    mean = np.mean(X_train[:input_dim, :], axis=1, keepdims=True)\n",
        "    std = np.std(X_train[:input_dim, :], axis=1, keepdims=True)\n",
        "    \n",
        "    # Create copies of the data to avoid modifying the original arrays\n",
        "    X_train_normalize = X_train.copy()\n",
        "    X_val_normalize = X_val.copy()\n",
        "    \n",
        "    # Normalize the feature dimensions (not the bias)\n",
        "    # Training data\n",
        "    X_train_normalize[:input_dim, :] = (X_train[:input_dim, :] - mean) / std\n",
        "    \n",
        "    # Validation data (using training statistics)\n",
        "    X_val_normalize[:input_dim, :] = (X_val[:input_dim, :] - mean) / std\n",
        "    \n",
        "    # Ensure the bias neuron remains unchanged (last row should stay as ones)\n",
        "    X_train_normalize[input_dim, :] = 1.0\n",
        "    X_val_normalize[input_dim, :] = 1.0\n",
        "    \n",
        "    return X_train_normalize, X_val_normalize"
      ]
    },
    {
      "attachments": {},
      "cell_type": "markdown",
      "metadata": {
        "id": "9cTqq3UnknyP"
      },
      "source": [
        "### Gradient Descent\n",
        "\n",
        "To train a two-layer multi-output regression network, we need to implement some functions.\n",
        "The network output is computed in three steps:\n",
        "\n",
        "  * Compute network activation for a batch of inputs $\\mathbf X$: $\\mathbf A = \\mathbf W^{(1)}\\mathbf X$\n",
        "  * Call the activation function element-wise: $\\mathbf H = g(\\mathbf A)$. Here, we rely on the $\\tanh$ function. Assure that the hidden neuron bias $\\mathbf H_{0,:}$ is set appropriately.\n",
        "  * Compute the logits $\\mathbf Z$ of the batch: $\\mathbf Z = \\mathbf W^{(2)}\\mathbf H$."
      ]
    },
    {
      "attachments": {},
      "cell_type": "markdown",
      "metadata": {
        "id": "Sl3UYyPmXy_2"
      },
      "source": [
        "#### Task 2.4: Activation of Output\n",
        "\n",
        "In this task, we will implement the activation functions used in binary and categorical classification:  \n",
        "\n",
        "1. Logistic Function (for Binary Classification)  \n",
        "   $$\n",
        "   \\sigma(z) = \\frac{1}{1 + e^{-z}}\n",
        "   $$\n",
        "\n",
        "2. Stable Softmax Function (for Categorical Classification)\n",
        "  $$\n",
        "   \\tilde{\\mathcal S}(z_o) = \\frac{e^{z_o - z_{max}}}{\\sum\\limits_{o'} e^{z_{o'} - z_{max}}}\n",
        "   $$"
      ]
    },
    {
      "cell_type": "code",
      "execution_count": null,
      "metadata": {
        "id": "jpcuXTBKg115"
      },
      "outputs": [],
      "source": [
        "def logistic_function(z):\n",
        "    \"\"\"\n",
        "    Implements the logistic (sigmoid) function for binary classification.\n",
        "    \n",
        "    Parameters:\n",
        "    z (numpy.ndarray): Input logits\n",
        "    \n",
        "    Returns:\n",
        "    numpy.ndarray: Probabilities between 0 and 1\n",
        "    \"\"\"\n",
        "    return 1 / (1 + np.exp(-z))\n",
        "\n",
        "def stable_softmax(z):\n",
        "    \"\"\"\n",
        "    Implements the stable softmax function for categorical classification.\n",
        "    \n",
        "    Parameters:\n",
        "    z (numpy.ndarray): Input logits, shape (num_classes, batch_size)\n",
        "    \n",
        "    Returns:\n",
        "    numpy.ndarray: Probabilities that sum to 1 for each sample\n",
        "    \"\"\"\n",
        "    # Find the maximum value for each sample (along the class dimension)\n",
        "    z_max = np.max(z, axis=0, keepdims=True)\n",
        "    \n",
        "    # Subtract z_max and compute exponentials\n",
        "    exp_z = np.exp(z - z_max)\n",
        "    \n",
        "    # Normalize by dividing by the sum\n",
        "    return exp_z / np.sum(exp_z, axis=0, keepdims=True)"
      ]
    },
    {
      "attachments": {},
      "cell_type": "markdown",
      "metadata": {
        "id": "KMz-nSri4iQC"
      },
      "source": [
        "#### Task 2.5: Network Implementation\n",
        "\n",
        "Implement a multi-target network that computes the output matrix $\\mathbf Y$ for a given input dataset $\\mathbf X$ and given parameters $\\Theta=(\\mathbf W^{(1)}, \\mathbf W^{(2)})$ using `numpy` operations. Use $\\tanh$ as activation function between two layers.\n",
        "\n",
        "The function should return both the output $\\mathbf Y$ and the output of the hidden units $\\mathbf H$ since we will need these in gradient descent. \n",
        "When applying binary cross entropy loss, we apply the logistic function $\\sigma$ to the logits $\\mathbf Z$ before returning it.\n",
        "When applying categorical cross entropy loss, we apply stable softmax $\\tilde{\\mathcal S}$ to the logits $\\mathbf Z$ before returning it."
      ]
    },
    {
      "cell_type": "code",
      "execution_count": null,
      "metadata": {
        "id": "6H8ZV4Qcly95"
      },
      "outputs": [],
      "source": [
        "def Network(X, Theta, loss_type='bce'):\n",
        "    W1, W2 = Theta\n",
        "\n",
        "    # compute activation\n",
        "    A = np.dot(W1, X)\n",
        "\n",
        "    # compute hidden unit output\n",
        "    H = np.tanh(A)\n",
        "    \n",
        "    # Add bias row to hidden layer output\n",
        "    # Create a row of ones with the same number of columns as H\n",
        "    bias_row = np.ones((1, H.shape[1]))\n",
        "    \n",
        "    # Concatenate the bias row with H\n",
        "    H = np.vstack((H, bias_row))\n",
        "\n",
        "    # compute network output (logits)\n",
        "    Z = np.dot(W2, H)\n",
        "\n",
        "    # Apply appropriate activation function based on loss type\n",
        "    if loss_type == 'bce':\n",
        "        # Binary classification - apply logistic function\n",
        "        Y = logistic_function(Z)\n",
        "    else:\n",
        "        # Categorical classification - apply stable softmax\n",
        "        Y = stable_softmax(Z)\n",
        "\n",
        "    return Y, H"
      ]
    },
    {
      "attachments": {},
      "cell_type": "markdown",
      "metadata": {
        "id": "Zt0CMab4_Dr5"
      },
      "source": [
        "#### Task 2.6: Loss Implementation\n",
        "\n",
        "Implement a loss function that returns the Binary Cross-Entropy (BCE) loss for binary classification and the Categorical Cross-Entropy (CCE) loss for categorical classification.\n",
        "Note that for BCE, $O=1$ so that both $\\mathbf Y\\in\\mathbb R^{O\\times N}$ and $\\mathbf T\\in\\mathbb N^{O\\times N}$ are considered as vectors.\n",
        "\n",
        "$$\n",
        "\\mathcal J^{\\mathrm{BCE}} = -\\frac{1}{N} \\left[ \\mathbf T \\log \\mathbf Y + (1 - \\mathbf T) \\log (1 - \\mathbf Y) \\right] \\vec{\\mathbf 1}_N\n",
        "$$\n",
        "\n",
        "$$\n",
        "\\mathcal J^{\\mathrm{CCE}} = -\\frac{1}{N} \\vec{\\mathbf 1}_O^T [\\mathbf T \\log \\mathbf Y] \\vec{\\mathbf 1}_N\n",
        "$$\n",
        "\n",
        "For both losses, the mathematical expressions below can be implemented much easier, by using basic `numpy` or `scipy` functionality."
      ]
    },
    {
      "cell_type": "code",
      "execution_count": null,
      "metadata": {
        "id": "MyudNNSLqRgq"
      },
      "outputs": [],
      "source": [
        "def loss(Y, T, loss_type='bce'):\n",
        "    \"\"\"\n",
        "    Compute the loss for binary or categorical classification.\n",
        "    \n",
        "    Parameters:\n",
        "    Y: Network predictions, shape (O×N) - output neurons × samples\n",
        "    T: Target values, shape (O×N)\n",
        "    loss_type: 'bce' for Binary Cross-Entropy, 'cce' for Categorical Cross-Entropy\n",
        "    \n",
        "    Returns:\n",
        "    float: Average loss value\n",
        "    \"\"\"\n",
        "    N = Y.shape[1]  # Number of samples\n",
        "    \n",
        "    # Add a small epsilon to avoid log(0)\n",
        "    epsilon = 1e-15\n",
        "    Y = np.clip(Y, epsilon, 1 - epsilon)\n",
        "    \n",
        "    if loss_type == 'bce':\n",
        "        # Binary Cross-Entropy Loss\n",
        "        return -np.sum(T * np.log(Y) + (1 - T) * np.log(1 - Y)) / N\n",
        "    else:\n",
        "        # Categorical Cross-Entropy Loss\n",
        "        return -np.sum(T * np.log(Y)) / N"
      ]
    },
    {
      "attachments": {},
      "cell_type": "markdown",
      "metadata": {
        "id": "fD2srCKN_Dr5"
      },
      "source": [
        "#### Task 2.7: Gradient Implementation\n",
        "\n",
        "Implement a function that computes and returns the gradient for a given batch $(\\mathbf X, \\mathbf T)$, the given network outputs $\\mathbf Y$ and $\\mathbf H$ as well as current parameters $\\Theta=(\\mathbf W^{(1)}, \\mathbf W^{(2)})$.\n",
        "Make sure to compute the gradient with respect to both weight matrices. Remember that we have used $\\sigma$ as the activation function.\n",
        "Implement the function using the fast version provided in the lecture and make use of `numpy` operations."
      ]
    },
    {
      "cell_type": "code",
      "execution_count": null,
      "metadata": {
        "id": "nNpZRBrUqU5Q"
      },
      "outputs": [],
      "source": [
        "def gradient(X, T, Y, H, Theta, loss_type='bce'):\n",
        "    W1, W2 = Theta\n",
        "    N = X.shape[1]  # Number of samples\n",
        "    \n",
        "    # Compute the output error derivative dJ/dZ\n",
        "    if loss_type == 'bce':\n",
        "        # For binary cross-entropy: dJ/dZ = Y - T\n",
        "        dJ_dZ = Y - T\n",
        "    else:\n",
        "        # For categorical cross-entropy: dJ/dZ = Y - T\n",
        "        dJ_dZ = Y - T\n",
        "    \n",
        "    # Derivative with respect to W2\n",
        "    # g2 = dJ/dW2 = dJ/dZ * dZ/dW2 = dJ/dZ * H^T / N\n",
        "    g2 = np.dot(dJ_dZ, H.T) / N\n",
        "    \n",
        "    # Backpropagate error to hidden layer\n",
        "    # delta_h = dJ/dH = W2^T * dJ/dZ\n",
        "    delta_h = np.dot(W2.T, dJ_dZ)\n",
        "    \n",
        "    # We need to remove the bias term's gradient since it's not a real unit\n",
        "    delta_h = delta_h[:-1, :]  # Remove last row (bias row)\n",
        "    \n",
        "    # Compute derivative with respect to hidden unit activations\n",
        "    # dH/dA = (1 - H^2) for tanh activation\n",
        "    # Note: H here is the original H without bias\n",
        "    H_without_bias = H[:-1, :]\n",
        "    dH_dA = 1 - H_without_bias**2\n",
        "    \n",
        "    # Combine with the error from the output layer\n",
        "    delta_a = delta_h * dH_dA\n",
        "    \n",
        "    # Derivative with respect to W1\n",
        "    # g1 = dJ/dW1 = dJ/dA * dA/dW1 = delta_a * X^T / N\n",
        "    g1 = np.dot(delta_a, X.T) / N\n",
        "    \n",
        "    return g1, g2\n"
      ]
    },
    {
      "attachments": {},
      "cell_type": "markdown",
      "metadata": {
        "id": "iQ5re_EW4iQD"
      },
      "source": [
        "#### Task 2.8: Accuracy Computation\n",
        "\n",
        "\n",
        "Implement a function that computes the accuracy of the provided network output and the given target values.\n",
        "Make sure that the implementation supports both binary as well as categorical targets."
      ]
    },
    {
      "cell_type": "code",
      "execution_count": null,
      "metadata": {
        "id": "eDOQJPo3FLX4"
      },
      "outputs": [],
      "source": [
        "def accuracy(Y, T):\n",
        "    \"\"\"\n",
        "    Computes the accuracy of network predictions compared to target values.\n",
        "    \n",
        "    Parameters:\n",
        "    Y (numpy.ndarray): Network output or logits, shape (O×N)\n",
        "    T (numpy.ndarray): Target values, shape (O×N)\n",
        "    \n",
        "    Returns:\n",
        "    float: Accuracy as a value between 0 and 1\n",
        "    \"\"\"\n",
        "    # check if we have binary or categorical classification\n",
        "    if T.shape[0] == 1:\n",
        "        # binary classification\n",
        "        # Convert logits to binary predictions using 0 threshold\n",
        "        Y_pred = (Y > 0.5).astype(int)\n",
        "        # Compare predictions with targets and compute accuracy\n",
        "        return np.mean(Y_pred == T)\n",
        "    else:\n",
        "        # categorical classification\n",
        "        # Convert logits to class predictions by taking argmax\n",
        "        Y_pred = np.argmax(Y, axis=0)\n",
        "        T_true = np.argmax(T, axis=0)\n",
        "        # Compare predicted classes with true classes and compute accuracy\n",
        "        return np.mean(Y_pred == T_true)"
      ]
    },
    {
      "attachments": {},
      "cell_type": "markdown",
      "metadata": {
        "id": "qXZnMJ6O4iQD"
      },
      "source": [
        "#### Test 2: Test Accuracy Function\n",
        "\n",
        "\n",
        "Design test data and according logit values with which you can test the correctness of your accuracy function.\n",
        "Make sure that the accuracy will compute the correct values.\n",
        "Test both binary and categorical accuracy."
      ]
    },
    {
      "cell_type": "code",
      "execution_count": null,
      "metadata": {
        "id": "T6oj8z3a4iQD"
      },
      "outputs": [],
      "source": [
        "# first, test binary classification\n",
        "YY = np.ones((1,20)) * -5.\n",
        "YY[0][15:20] = 5\n",
        "assert(abs(accuracy(YY,np.zeros((1,20))) - 0.75) < 1e-8)\n",
        "assert(abs(accuracy(YY,np.ones((1,20))) - 0.25) < 1e-8)\n",
        "\n",
        "# now, test categorical classification with 4 classes\n",
        "YY = np.ones((4, 20)) * -5  # Shape (C, N) to match function expectations\n",
        "YY[0, 0:1] = 5\n",
        "YY[1, 1:4] = 5\n",
        "YY[2, 4:10] = 5\n",
        "YY[3, 10:20] = 5\n",
        "# Modify YY and T to be one-hot encoded\n",
        "T0 = np.eye(4)[np.zeros(20, dtype=int)].T\n",
        "T1 = np.eye(4)[np.ones(20, dtype=int)].T\n",
        "T2 = np.eye(4)[np.ones(20, dtype=int) * 2].T\n",
        "T3 = np.eye(4)[np.ones(20, dtype=int) * 3].T\n",
        "T4 = np.eye(4)[np.array([0, 1, 1, 1, 2, 2, 2, 2, 2, 2, 3, 3, 3, 3, 3, 3, 3, 3, 3, 3])].T\n",
        "\n",
        "# Assertions with modified inputs\n",
        "assert abs(accuracy(YY, T0) - 0.05) < 1e-8\n",
        "assert abs(accuracy(YY, T1) - 0.15) < 1e-8\n",
        "assert abs(accuracy(YY, T2) - 0.3) < 1e-8\n",
        "assert abs(accuracy(YY, T3) - 0.5) < 1e-8\n",
        "assert abs(accuracy(YY, T4) - 1.0) < 1e-8"
      ]
    },
    {
      "attachments": {},
      "cell_type": "markdown",
      "metadata": {
        "id": "yBC2C6sy4iQD"
      },
      "source": [
        "#### Task 2.9: Training Loop\n",
        "\n",
        "\n",
        "Implement gradient descent for a given number of 10'000 epochs using given input data, initial parameters $\\Theta$, loss_type, number of epochs, as well as a learning rate of $\\eta=0.1$.\n",
        "\n",
        "Make use of the normalized dataset from Task 2.3, the network from Task 2.5, the loss from Task 2.6, the gradient from Task 2.7, and the accuracy function from Task 2.8.\n",
        "\n",
        "Make sure that you train on the training data only, and not on the validation data.\n",
        "In each loop, compute and store the training loss, training accuracy, validation loss and validation accuracy.\n",
        "At the end, return the lists of these values.\n"
      ]
    },
    {
      "cell_type": "code",
      "execution_count": null,
      "metadata": {
        "id": "LOhA6w23qnaK"
      },
      "outputs": [],
      "source": [
        "def train(X_train, T_train, X_val, T_val, Theta, loss_type='bce', num_epochs=10000, learning_rate=0.1):\n",
        "    \"\"\"\n",
        "    Train a neural network using gradient descent.\n",
        "    \n",
        "    Parameters:\n",
        "    X_train: Training data features\n",
        "    T_train: Training data targets\n",
        "    X_val: Validation data features\n",
        "    T_val: Validation data targets\n",
        "    Theta: Initial parameters (W1, W2)\n",
        "    loss_type: 'bce' for binary cross-entropy, 'cce' for categorical cross-entropy\n",
        "    num_epochs: Number of training epochs\n",
        "    learning_rate: Learning rate for gradient descent\n",
        "    \n",
        "    Returns:\n",
        "    tuple: (train_loss, train_acc, val_loss, val_acc)\n",
        "    \"\"\"\n",
        "    # Current parameters\n",
        "    W1, W2 = Theta\n",
        "    \n",
        "    # collect loss and accuracy values\n",
        "    train_loss, train_acc, val_loss, val_acc = [], [], [], []\n",
        "\n",
        "    for epoch in range(num_epochs):\n",
        "        # train on training set\n",
        "        # compute network output on training data\n",
        "        Y_train, H_train = Network(X_train, (W1, W2), loss_type)\n",
        "        \n",
        "        # compute loss from network output and target data\n",
        "        current_train_loss = loss(Y_train, T_train, loss_type)\n",
        "        \n",
        "        # compute gradient and perform weight update\n",
        "        g1, g2 = gradient(X_train, T_train, Y_train, H_train, (W1, W2), loss_type)\n",
        "        W1 = W1 - learning_rate * g1\n",
        "        W2 = W2 - learning_rate * g2\n",
        "        \n",
        "        # remember loss\n",
        "        train_loss.append(current_train_loss)\n",
        "        # compute training set accuracy\n",
        "        train_acc.append(accuracy(Y_train, T_train))\n",
        "\n",
        "        # test on validation data\n",
        "        # compute network output on validation data\n",
        "        Y_val, _ = Network(X_val, (W1, W2), loss_type)\n",
        "        \n",
        "        # compute loss from network output and target data\n",
        "        current_val_loss = loss(Y_val, T_val, loss_type)\n",
        "        \n",
        "        # remember loss\n",
        "        val_loss.append(current_val_loss)\n",
        "        # compute validation set accuracy\n",
        "        val_acc.append(accuracy(Y_val, T_val))\n",
        "        \n",
        "        # Optional: Print progress every 1000 epochs\n",
        "        if epoch % 1000 == 0:\n",
        "            print(f\"Epoch {epoch}: Train Loss = {current_train_loss:.4f}, Train Acc = {train_acc[-1]:.4f}, Val Loss = {current_val_loss:.4f}, Val Acc = {val_acc[-1]:.4f}\")\n",
        "\n",
        "    # return the four lists of losses and accuracies\n",
        "    return train_loss, train_acc, val_loss, val_acc"
      ]
    },
    {
      "attachments": {},
      "cell_type": "markdown",
      "metadata": {
        "id": "tU_LUDM14iQD"
      },
      "source": [
        "#### Task 2.10: Plotting Function\n",
        "\n",
        "\n",
        "Implement a function that takes four lists containing the training loss, the training accuracy, the validation loss and the validation accuracy.\n",
        "Plot the two losses into one plot, and the two accuracies into another plot."
      ]
    },
    {
      "cell_type": "code",
      "execution_count": null,
      "metadata": {
        "id": "_fIVZsZvsryb"
      },
      "outputs": [],
      "source": [
        "from matplotlib import pyplot\n",
        "\n",
        "def plot(train_loss, train_acc, val_loss, val_acc):\n",
        "    \"\"\"\n",
        "    Plot training and validation metrics.\n",
        "    \n",
        "    Parameters:\n",
        "    train_loss: List of training loss values\n",
        "    train_acc: List of training accuracy values\n",
        "    val_loss: List of validation loss values\n",
        "    val_acc: List of validation accuracy values\n",
        "    \"\"\"\n",
        "    pyplot.figure(figsize=(10, 3))\n",
        "    \n",
        "    # Plot losses\n",
        "    ax = pyplot.subplot(121)\n",
        "    ax.plot(train_loss, \"g-\", label=\"Training set loss\")\n",
        "    ax.plot(val_loss, \"b-\", label=\"Validation set loss\")\n",
        "    ax.set_xlabel(\"Epoch\")\n",
        "    ax.set_ylabel(\"Loss\")\n",
        "    ax.set_title(\"Loss over Training\")\n",
        "    ax.legend()\n",
        "\n",
        "    # Plot accuracies\n",
        "    ax = pyplot.subplot(122)\n",
        "    ax.plot(train_acc, \"g-\", label=\"Training set accuracy\")\n",
        "    ax.plot(val_acc, \"b-\", label=\"Validation set accuracy\")\n",
        "    ax.set_xlabel(\"Epoch\")\n",
        "    ax.set_ylabel(\"Accuracy\")\n",
        "    ax.set_title(\"Accuracy over Training\")\n",
        "    ax.legend()\n",
        "    \n",
        "    pyplot.tight_layout()\n",
        "    pyplot.savefig('training_metrics.png')\n",
        "    print(\"Plot saved to 'training_metrics.png'\")\n",
        "    pyplot.show()"
      ]
    },
    {
      "attachments": {},
      "cell_type": "markdown",
      "metadata": {
        "id": "I0A03pI84iQE"
      },
      "source": [
        "#### Task 2.11: Binary Classification\n",
        "\n",
        "\n",
        "1. Load the data for binary classification, using the ``\"churn_data.csv\"`` file.\n",
        "2. Split the data into training and validation sets.\n",
        "3. Normalize both training and validation input data using the function from Task 2.3.\n",
        "4. Instantiate the weight matrices $\\Theta=(\\mathbf W^{(1)}, \\mathbf W^{(2)})$ using the Xavier method as introduced in the lecture\n",
        "5. Train the network on the churn data with the learning rate of **$\\eta=0.1$** for 10'000 epochs and plot the training and validation accuracies and losses.\n",
        "\n"
      ]
    },
    {
      "cell_type": "code",
      "execution_count": null,
      "metadata": {
        "id": "6dQdkFKStw2g"
      },
      "outputs": [
        {
          "name": "stdout",
          "output_type": "stream",
          "text": [
            "Loaded dataset with 3150 samples\n",
            "Epoch 0: Train Loss = 0.6112, Train Acc = 0.7437, Val Loss = 0.5701, Val Acc = 0.7937\n",
            "Epoch 1000: Train Loss = 0.1986, Train Acc = 0.9171, Val Loss = 0.2072, Val Acc = 0.9127\n",
            "Epoch 2000: Train Loss = 0.1746, Train Acc = 0.9341, Val Loss = 0.1863, Val Acc = 0.9302\n",
            "Epoch 3000: Train Loss = 0.1508, Train Acc = 0.9405, Val Loss = 0.1624, Val Acc = 0.9349\n",
            "Epoch 4000: Train Loss = 0.1338, Train Acc = 0.9425, Val Loss = 0.1441, Val Acc = 0.9381\n",
            "Epoch 5000: Train Loss = 0.1216, Train Acc = 0.9456, Val Loss = 0.1316, Val Acc = 0.9381\n",
            "Epoch 6000: Train Loss = 0.1126, Train Acc = 0.9484, Val Loss = 0.1229, Val Acc = 0.9413\n",
            "Epoch 7000: Train Loss = 0.1058, Train Acc = 0.9520, Val Loss = 0.1169, Val Acc = 0.9460\n",
            "Epoch 8000: Train Loss = 0.1006, Train Acc = 0.9575, Val Loss = 0.1127, Val Acc = 0.9476\n",
            "Epoch 9000: Train Loss = 0.0961, Train Acc = 0.9595, Val Loss = 0.1094, Val Acc = 0.9476\n",
            "Plot saved to 'training_metrics.png'\n"
          ]
        },
        {
          "data": {
            "image/png": "[encoded data removed]",
            "text/plain": [
              "<Figure size 1000x300 with 2 Axes>"
            ]
          },
          "metadata": {},
          "output_type": "display_data"
        }
      ],
      "source": [
        "# load dataset\n",
        "X, T = dataset(\"churn_data.csv\", \",\")\n",
        "\n",
        "# split dataset\n",
        "X_train, T_train, X_val, T_val = split_training_data(X, T)\n",
        "\n",
        "# normalize input data\n",
        "X_train, X_val = normalize(X_train, X_val)\n",
        "\n",
        "# Define network dimensions\n",
        "D = X_train.shape[0] - 1  # Input dimension (excluding bias)\n",
        "K = 10  # Number of hidden units\n",
        "O = 1  # Output dimension (binary classification)\n",
        "\n",
        "# Xavier initialization for weights\n",
        "# For W1, input includes the bias neuron already contained in X\n",
        "# W1 shape: (K × D+1)\n",
        "W1 = np.random.randn(K, X_train.shape[0]) * np.sqrt(2.0 / (X_train.shape[0] + K))\n",
        "\n",
        "# For W2, we'll need to add a bias to hidden layer output\n",
        "# W2 shape: (O × (K+1))\n",
        "W2 = np.random.randn(O, K+1) * np.sqrt(2.0 / (K+1 + O))\n",
        "\n",
        "Theta = [W1, W2]\n",
        "\n",
        "# train network on our data\n",
        "results = train(X_train, T_train, X_val, T_val, Theta, loss_type='bce')\n",
        "\n",
        "# plot the results\n",
        "plot(*results)"
      ]
    },
    {
      "attachments": {},
      "cell_type": "markdown",
      "metadata": {
        "id": "UtB7EEI14iQE"
      },
      "source": [
        "#### Task 2.12: Categorical Classification\n",
        "\n",
        "\n",
        "1. Load the data for categorical classification, using the ``\"winequality-red.csv\"`` file.\n",
        "2. Split the data into training and validation sets.\n",
        "3. Normalize both training and validation input data using the function from Task 2.3.\n",
        "4. **How many input and output neurons do we need?** Change the number of input, hidden, and output neurons accordingly. Select an appropriate number of hidden neurons $K$.\n",
        "5. Instantiate the weight matrices $\\Theta=(\\mathbf W^{(1)}, \\mathbf W^{(2)})$ using the Xavier method as introduced in the lecture\n",
        "6. Train the network on the winequality-red dataset with the learning rate of **$\\eta=0.1$** for 10'000 epochs and plot the training and validation accuracies and losses.\n",
        "\n"
      ]
    },
    {
      "cell_type": "code",
      "execution_count": null,
      "metadata": {
        "id": "oBADNP7Muif5"
      },
      "outputs": [
        {
          "name": "stdout",
          "output_type": "stream",
          "text": [
            "Loaded dataset with 1599 samples\n",
            "Epoch 0: Train Loss = 1.9129, Train Acc = 0.1486, Val Loss = 1.9025, Val Acc = 0.2156\n",
            "Epoch 1000: Train Loss = 0.8614, Train Acc = 0.6231, Val Loss = 0.9610, Val Acc = 0.6125\n",
            "Epoch 2000: Train Loss = 0.8231, Train Acc = 0.6458, Val Loss = 0.9666, Val Acc = 0.6125\n",
            "Epoch 3000: Train Loss = 0.7892, Train Acc = 0.6654, Val Loss = 0.9779, Val Acc = 0.6250\n",
            "Epoch 4000: Train Loss = 0.7610, Train Acc = 0.6646, Val Loss = 0.9875, Val Acc = 0.6250\n",
            "Epoch 5000: Train Loss = 0.7407, Train Acc = 0.6763, Val Loss = 0.9987, Val Acc = 0.6250\n",
            "Epoch 6000: Train Loss = 0.7259, Train Acc = 0.6755, Val Loss = 1.0145, Val Acc = 0.6406\n",
            "Epoch 7000: Train Loss = 0.7139, Train Acc = 0.6779, Val Loss = 1.0267, Val Acc = 0.6344\n",
            "Epoch 8000: Train Loss = 0.7045, Train Acc = 0.6880, Val Loss = 1.0362, Val Acc = 0.6344\n",
            "Epoch 9000: Train Loss = 0.6958, Train Acc = 0.6998, Val Loss = 1.0429, Val Acc = 0.6281\n",
            "Plot saved to 'training_metrics.png'\n"
          ]
        },
        {
          "data": {
            "image/png": "[encoded data removed]",
            "text/plain": [
              "<Figure size 1000x300 with 2 Axes>"
            ]
          },
          "metadata": {},
          "output_type": "display_data"
        }
      ],
      "source": [
        "# load dataset\n",
        "X, T = dataset(\"winequality-red.csv\", \";\")\n",
        "\n",
        "# split dataset\n",
        "X_train, T_train, X_val, T_val = split_training_data(X, T)\n",
        "\n",
        "# normalize input data\n",
        "X_train, X_val = normalize(X_train, X_val)\n",
        "\n",
        "# Define network dimensions\n",
        "D = X_train.shape[0] - 1  # Input dimension (excluding bias) = 11\n",
        "K = 15  # Number of hidden units - increased for this more complex task\n",
        "O = 6  # Output dimension (6 wine quality classes from 3 to 8)\n",
        "\n",
        "# Xavier initialization for weights\n",
        "# W1 shape: (K × (D+1))\n",
        "W1 = np.random.randn(K, X_train.shape[0]) * np.sqrt(2.0 / (X_train.shape[0] + K))\n",
        "\n",
        "# W2 shape: (O × (K+1))\n",
        "W2 = np.random.randn(O, K+1) * np.sqrt(2.0 / (K+1 + O))\n",
        "\n",
        "Theta = [W1, W2]\n",
        "\n",
        "# train network on our data\n",
        "results = train(X_train, T_train, X_val, T_val, Theta, loss_type='cce')\n",
        "\n",
        "# plot the results\n",
        "plot(*results)"
      ]
    }
  ],
  "metadata": {
    "colab": {
      "provenance": []
    },
    "kernelspec": {
      "display_name": "Python 3",
      "language": "python",
      "name": "python3"
    },
    "language_info": {
      "codemirror_mode": {
        "name": "ipython",
        "version": 3
      },
      "file_extension": ".py",
      "mimetype": "text/x-python",
      "name": "python",
      "nbconvert_exporter": "python",
      "pygments_lexer": "ipython3",
      "version": "3.10.12"
    }
  },
  "nbformat": 4,
  "nbformat_minor": 0
}
