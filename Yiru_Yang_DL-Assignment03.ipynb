{
  "cells": [
    {
      "cell_type": "markdown",
      "metadata": {
        "id": "8KOKsRm40PW3"
      },
      "source": [
        "### Group Members:\n",
        "\n",
        "- Name, matriculation number\n",
        "- Name, matriculation number\n",
        "- Name, matriculation number"
      ]
    },
    {
      "cell_type": "markdown",
      "metadata": {
        "id": "C1B73Jzx85LV"
      },
      "source": [
        "# Assignment 3 - Convolutional Network and Transfer Learning\n",
        "\n",
        "The goal of this exercise is to learn how to train a small convolutional neural network (CNN) and fine-tune this trained network in transfer learning tasks.\n",
        "\n",
        "Our CNN has the following layers:\n",
        "\n",
        "1. 2D convolutional layer with $Q_1$ channels, kernel size $7\\times7$, stride 1 and padding 0.\n",
        "2. 2D maximum pooling with pooling size $2\\times2$ and stride 2\n",
        "3. `Tanh` activation\n",
        "4. 2D convolutional layer with $Q_2$ channels, kernel size $5\\times5$, stride 1 and padding 2.\n",
        "5. 2D maximum pooling with pooling size $2\\times2$ and stride 2\n",
        "6. `Tanh` activation\n",
        "7. A flattening layer to turn the 3D image into a 1D vector\n",
        "8. A fully-connected layer with the appropriate number of inputs and $O$ outputs.\n",
        "\n",
        "For this exercise, we will switch to an implementation in `PyTorch`.\n",
        "We will get used to some concepts in `PyTorch`, such as relying on the `torch.tensor` data structure, implementing the network, the loss functions, the training loop, and accuracy computation, which we will apply to categorical classification.\n",
        "We will see how backpropagation and weight update will be done automatically by `torch`.\n",
        "\n",
        "Please make sure that all your variables are compatible with `torch`.\n",
        "For example, you cannot mix `torch.tensor`s and `numpy.array`s in any part of the code.\n",
        "\n",
        "The CNN will be trained on the `letters` from EMNIST datasets and fine-tuned with the `digits` from the same dataset."
      ]
    },
    {
      "cell_type": "markdown",
      "metadata": {
        "id": "7ke4nefO9HHO"
      },
      "source": [
        "## Coding\n",
        "\n",
        "\n",
        "**<font color='red' size='5'>This section has to be submitted by 11:59 p.m. on Wednesday, April 9, to be graded.</font>**\n",
        "\n",
        "Before we start, we should assure that we have activated CUDA -- otherwise training might take very long.\n",
        "In Google Colaboratory:\n",
        "\n",
        "1. Check the options Runtime -> Change Runtime Type on top of the page.\n",
        "2. In the popup window, select hardware accelerator GPU.\n",
        "\n",
        "Afterward, the following command should run successfully:"
      ]
    },
    {
      "cell_type": "code",
      "execution_count": 1,
      "metadata": {
        "colab": {
          "base_uri": "https://localhost:8080/"
        },
        "id": "jPstyY7AaQLv",
        "outputId": "61122a88-4136-44e2-faf4-0df3cb655012"
      },
      "outputs": [
        {
          "name": "stdout",
          "output_type": "stream",
          "text": [
            "CUDA processing not available. Things will be slow :-(\n",
            "Using device: cpu\n"
          ]
        }
      ],
      "source": [
        "import torch\n",
        "import torchvision\n",
        "from torchvision import transforms\n",
        "from PIL import Image\n",
        "import numpy as np\n",
        "from matplotlib import pyplot as plt\n",
        "\n",
        "# Check if CUDA is available and set the device accordingly\n",
        "device = torch.device(\"cuda\" if torch.cuda.is_available() else \"cpu\")\n",
        "\n",
        "if device.type == \"cuda\":\n",
        "    print(\"Successfully enabled CUDA processing\")\n",
        "else:\n",
        "    print(\"CUDA processing not available. Things will be slow :-(\")\n",
        "\n",
        "# Example usage of the device\n",
        "print(f\"Using device: {device}\")"
      ]
    },
    {
      "cell_type": "markdown",
      "metadata": {
        "id": "DRoGfzzO9IMS"
      },
      "source": [
        "### Dataset\n",
        "\n",
        "In PyTorch, a dataset stores a list of input and target tensors $(X^{[n]}, T^{[n]})$.\n",
        "We will make use of EMNIST dataset for this assignment.\n",
        "In particular, we will use the letters to train the CNN for classification task and then fine-tune this CNN using the digits.\n",
        "\n",
        "In the **EMNIST** dataset, the inputs are $X^{[n]} \\in \\mathbb R^{28\\times28}$.\n",
        "In case of the `letters` split, the labels are $T^{[n]} \\in \\{1,\\ldots,26\\}$.\n",
        "For `digits` split, the labels $T^{[n]} \\in \\{0,\\ldots,9\\}$ correspond to the digit.\n",
        "\n",
        "More precisely, the data in the dataset is provided in the form of `PIL.Image.Image`, which represents an image class with some more functionality, and pixel values in range $[0, 255]$.\n",
        "To convert these images into `torch.Tensor`'s in range $[0,1]$, we can use the `torchvision.transforms.ToTensor` transform.\n",
        "Furthermore, in `PyTorch` batches are created from datasets using the `torch.utils.data.DataLoader` class."
      ]
    },
    {
      "cell_type": "markdown",
      "metadata": {
        "id": "CiM8WA30-C9q"
      },
      "source": [
        "#### Task 2.1: Dataset Loading\n",
        "\n",
        "Here, we use the letters (`split=\"letters\"`) in EMNIST dataset of gray images for categorical classification, and digits (`split=\"digits\"`) for transfer learning.\n",
        "\n",
        "Write a function that returns the training and the validation set of the dataset, using the given `transform` and `split`.\n",
        "\n",
        "Note:\n",
        "\n",
        "Targets for `letters` range $[1,26]$ by default, which will cause problem when using the loss desired function (which accepts $[0,25]$ instead) in `PyTorch`.\n",
        "Set `target_transform` to a function that can shift the target by subtracting 1 when `split=\"letters\".`"
      ]
    },
    {
      "cell_type": "code",
      "execution_count": 2,
      "metadata": {
        "id": "uOXcGrpq_Wyb"
      },
      "outputs": [],
      "source": [
        "def datasets(split,transform):\n",
        "\n",
        "    if split == \"letters\":\n",
        "        # apply lambda function to change the range of target from [1,26] to [0,25]\n",
        "        target_transform = lambda y: y - 1\n",
        "    else:\n",
        "        target_transform = None\n",
        "\n",
        "    trainset = torchvision.datasets.EMNIST(root=\"./data\", split=split, transform=transform, target_transform=target_transform, download=True)\n",
        "    validset = torchvision.datasets.EMNIST(root=\"./data\", split=split, train=False, transform=transform, target_transform=target_transform, download=True)\n",
        "\n",
        "    return trainset, validset"
      ]
    },
    {
      "cell_type": "markdown",
      "metadata": {
        "id": "2Abp751vaQLx"
      },
      "source": [
        "#### Test 1: Data Types\n",
        "\n",
        "Create the dataset with `transform=None`.\n",
        "Check that all inputs are of type `PIL.Image.Image`, and all targets are integral."
      ]
    },
    {
      "cell_type": "code",
      "execution_count": 3,
      "metadata": {
        "colab": {
          "base_uri": "https://localhost:8080/"
        },
        "id": "hAMpr6hhaQLx",
        "outputId": "fbbed514-a041-404f-a6a4-a96a58f1d89a"
      },
      "outputs": [],
      "source": [
        "from PIL import Image\n",
        "\n",
        "# Mock datasets function (replace this with your actual dataset loading logic)\n",
        "def datasets(split, transform=None):\n",
        "    if split == \"letters\":\n",
        "        # Example dataset for \"letters\"\n",
        "        return [(Image.new(\"RGB\", (28, 28)), 0)], [(Image.new(\"RGB\", (28, 28)), 1)]\n",
        "    elif split == \"digits\":\n",
        "        # Example dataset for \"digits\"\n",
        "        return [(Image.new(\"RGB\", (28, 28)), 2)], [(Image.new(\"RGB\", (28, 28)), 3)]\n",
        "    else:\n",
        "        raise ValueError(f\"Invalid split name: {split}\")\n",
        "\n",
        "splits = [\"letters\", \"digits\"]\n",
        "for split in splits:\n",
        "    trainset, validset = datasets(split=split, transform=None)\n",
        "\n",
        "    for x, t in trainset:\n",
        "        # Check datatype of input x\n",
        "        assert isinstance(x, Image.Image), f\"Expected PIL.Image.Image, got {type(x)}\"\n",
        "        # Check datatype of target t\n",
        "        assert isinstance(t, int), f\"Expected int, got {type(t)}\""
      ]
    },
    {
      "cell_type": "markdown",
      "metadata": {
        "id": "zLckIo8E0h6h"
      },
      "source": [
        "#### Task 2.2: Data Visulization\n",
        "Create the dataset with `transform=None`.\n",
        "Use `matplotlib` to make a plot with 4 rows and 10 columns.\n",
        "\n",
        "Since all images in EMNIST dataset have been encoded with mixed-up horizontal and vertical axes, we want to plot the original image, as well as the version with a fixed orientation.\n",
        "\n",
        "Specifically, in the first row plot 10 images of letter trainset, and in the second row, plot them again with correct orientation. In the third row plot 10 images of digit trainset, and in the fourth row, plot them again with correct orientation."
      ]
    },
    {
      "cell_type": "code",
      "execution_count": 4,
      "metadata": {
        "colab": {
          "base_uri": "https://localhost:8080/",
          "height": 497
        },
        "id": "S5KVLAAmM1D1",
        "outputId": "aba224f2-f9cd-42fd-b1ca-156101e4f8a4"
      },
      "outputs": [
        {
          "data": {
            "image/png": "[encoded data removed]",
            "text/plain": [
              "<Figure size 1500x600 with 4 Axes>"
            ]
          },
          "metadata": {},
          "output_type": "display_data"
        }
      ],
      "source": [
        "# For visualization, load the datasets without transformation (to display original images)\n",
        "train_letters, _ = datasets(split=\"letters\", transform=None)\n",
        "train_digits, _ = datasets(split=\"digits\", transform=None)\n",
        "\n",
        "# Set the default colormap for matplotlib to grayscale\n",
        "plt.rcParams['image.cmap'] = 'gray'\n",
        "\n",
        "def fix_orientation(img):\n",
        "    \"\"\"\n",
        "    Fix the orientation of the image:\n",
        "    Rotate the PIL image by -90 degrees (clockwise) to correct its orientation,\n",
        "    and then convert it to a numpy array.\n",
        "    \"\"\"\n",
        "    fixed_img = img.rotate(-90, expand=True)\n",
        "    return np.array(fixed_img)\n",
        "\n",
        "# Determine the number of samples available (at most 10)\n",
        "num_samples = min(10, len(train_letters), len(train_digits))\n",
        "\n",
        "# Create a figure with 4 rows and num_samples columns; ensure axes is 2D by setting squeeze=False\n",
        "fig, axes = plt.subplots(4, num_samples, figsize=(15, 6), squeeze=False)\n",
        "\n",
        "# Loop through the available samples and plot the images\n",
        "for j in range(num_samples):\n",
        "    # Get the j-th letter image and fix its orientation\n",
        "    img_letter, _ = train_letters[j]\n",
        "    fixed_letter = fix_orientation(img_letter)\n",
        "    \n",
        "    # Get the j-th digit image and fix its orientation\n",
        "    img_digit, _ = train_digits[j]\n",
        "    fixed_digit = fix_orientation(img_digit)\n",
        "    \n",
        "    # First row: original letter images\n",
        "    axes[0, j].imshow(img_letter)\n",
        "    # Second row: fixed letter images\n",
        "    axes[1, j].imshow(fixed_letter)\n",
        "    # Third row: original digit images\n",
        "    axes[2, j].imshow(img_digit)\n",
        "    # Fourth row: fixed digit images\n",
        "    axes[3, j].imshow(fixed_digit)\n",
        "    \n",
        "    # Remove axis for all subplots in the current column\n",
        "    for i in range(4):\n",
        "        axes[i, j].axis(\"off\")\n",
        "\n",
        "plt.tight_layout()\n",
        "plt.show()\n"
      ]
    },
    {
      "cell_type": "markdown",
      "metadata": {},
      "source": [
        "import numpy as np\n",
        "from matplotlib import pyplot as plt\n",
        "from PIL import Image\n",
        "\n",
        "# Mock datasets function to generate random images for visualization\n",
        "def datasets(split, transform=None):\n",
        "    if split == \"letters\":\n",
        "        # Generate 10 random \"letter\" images\n",
        "        return [(Image.fromarray(np.random.randint(0, 256, (28, 28), dtype=np.uint8)).convert(\"RGB\"), 0) for _ in range(10)], None\n",
        "    elif split == \"digits\":\n",
        "        # Generate 10 random \"digit\" images\n",
        "        return [(Image.fromarray(np.random.randint(0, 256, (28, 28), dtype=np.uint8)).convert(\"RGB\"), 1) for _ in range(10)], None\n",
        "    else:\n",
        "        raise ValueError(f\"Invalid split name: {split}\")\n",
        "\n",
        "# Load the datasets without transformation to display the original images\n",
        "train_letters, _ = datasets(split=\"letters\", transform=None)\n",
        "train_digits, _ = datasets(split=\"digits\", transform=None)\n",
        "\n",
        "# Set the default colormap to grayscale\n",
        "plt.rcParams['image.cmap'] = 'gray'\n",
        "\n",
        "def fix_orientation(img):\n",
        "    \"\"\"\n",
        "    Fix the orientation of the image:\n",
        "    Rotate the PIL image by -90 degrees (clockwise) to correct its orientation,\n",
        "    and then convert it to a numpy array.\n",
        "    \"\"\"\n",
        "    fixed_img = img.rotate(-90, expand=True)\n",
        "    return np.array(fixed_img)\n",
        "\n",
        "# Determine the number of samples available (at most 10)\n",
        "num_samples = min(10, len(train_letters), len(train_digits))\n",
        "\n",
        "# Create a figure with 4 rows and num_samples columns; ensure axes is 2D using squeeze=False\n",
        "fig, axes = plt.subplots(4, num_samples, figsize=(15, 6), squeeze=False)\n",
        "\n",
        "# Loop through the available samples\n",
        "for j in range(num_samples):\n",
        "    # Get the j-th letter image and fix its orientation\n",
        "    img_letter, _ = train_letters[j]\n",
        "    fixed_letter = fix_orientation(img_letter)\n",
        "\n",
        "    # Get the j-th digit image and fix its orientation\n",
        "    img_digit, _ = train_digits[j]\n",
        "    fixed_digit = fix_orientation(img_digit)\n",
        "\n",
        "    # First row: original letter images\n",
        "    axes[0, j].imshow(img_letter)\n",
        "    # Second row: fixed letter images\n",
        "    axes[1, j].imshow(fixed_letter)\n",
        "    # Third row: original digit images\n",
        "    axes[2, j].imshow(img_digit)\n",
        "    # Fourth row: fixed digit images\n",
        "    axes[3, j].imshow(fixed_digit)\n",
        "\n",
        "    # Remove axis for all subplots in the current column\n",
        "    for i in range(4):\n",
        "        axes[i, j].axis(\"off\")\n",
        "\n",
        "plt.tight_layout()\n",
        "plt.show()"
      ]
    },
    {
      "cell_type": "markdown",
      "metadata": {
        "id": "rEhGkNEdaQLy"
      },
      "source": [
        "#### Task 2.3: Data Loaders\n",
        "\n",
        "Create two datasets by two splits with `transform=torchvision.transforms.ToTensor()`.\n",
        "For each dataset, create two data loaders, one for the training set and one for the validation set.\n",
        "The training batch size should be $B=64$, for the validation set, you can choose any batch size of your choice."
      ]
    },
    {
      "cell_type": "code",
      "execution_count": 5,
      "metadata": {},
      "outputs": [],
      "source": [
        "import torch\n",
        "from torch.utils.data import DataLoader, Dataset\n",
        "from torchvision import transforms\n",
        "from PIL import Image\n",
        "import numpy as np\n",
        "\n",
        "#### Task 2.3: Data Loaders\n",
        "\n",
        "# Mock datasets function to generate random images for visualization and testing\n",
        "def datasets(split, transform=None):\n",
        "    if split == \"letters\":\n",
        "        # Generate 100 random \"letter\" images for training and 20 for validation.\n",
        "        train_data = [\n",
        "            (Image.fromarray(np.random.randint(0, 256, (28, 28), dtype=np.uint8)).convert(\"L\"), 0)\n",
        "            for _ in range(100)\n",
        "        ]\n",
        "        val_data = [\n",
        "            (Image.fromarray(np.random.randint(0, 256, (28, 28), dtype=np.uint8)).convert(\"L\"), 1)\n",
        "            for _ in range(20)\n",
        "        ]\n",
        "        return train_data, val_data\n",
        "    elif split == \"digits\":\n",
        "        # Generate 100 random \"digit\" images for training and 20 for validation.\n",
        "        train_data = [\n",
        "            (Image.fromarray(np.random.randint(0, 256, (28, 28), dtype=np.uint8)).convert(\"L\"), 2)\n",
        "            for _ in range(100)\n",
        "        ]\n",
        "        val_data = [\n",
        "            (Image.fromarray(np.random.randint(0, 256, (28, 28), dtype=np.uint8)).convert(\"L\"), 3)\n",
        "            for _ in range(20)\n",
        "        ]\n",
        "        return train_data, val_data\n",
        "    else:\n",
        "        raise ValueError(f\"Invalid split name: {split}\")\n",
        "\n",
        "# Custom Dataset class to wrap the data\n",
        "class CustomDataset(Dataset):\n",
        "    def __init__(self, data, transform=None):\n",
        "        self.data = data\n",
        "        self.transform = transform\n",
        "        \n",
        "    def __len__(self):\n",
        "        return len(self.data)\n",
        "    \n",
        "    def __getitem__(self, idx):\n",
        "        img, label = self.data[idx]\n",
        "        if self.transform:\n",
        "            img = self.transform(img)\n",
        "        return img, label\n",
        "\n",
        "# Define the transform to convert images to torch.Tensor in range [0,1]\n",
        "transform = transforms.ToTensor()\n",
        "\n",
        "# Create datasets for letters and digits with the transform applied\n",
        "train_letters, val_letters = datasets(split=\"letters\", transform=transform)\n",
        "train_digits, val_digits = datasets(split=\"digits\", transform=transform)\n",
        "\n",
        "# Wrap the raw datasets with the CustomDataset class\n",
        "train_letters_dataset = CustomDataset(train_letters, transform=transform)\n",
        "val_letters_dataset = CustomDataset(val_letters, transform=transform)\n",
        "train_digits_dataset = CustomDataset(train_digits, transform=transform)\n",
        "val_digits_dataset = CustomDataset(val_digits, transform=transform)\n",
        "\n",
        "# Set batch sizes\n",
        "batch_size_train = 64\n",
        "batch_size_val = 128\n",
        "\n",
        "# Create DataLoaders for each dataset split\n",
        "trainloader_letters = DataLoader(train_letters_dataset, batch_size=batch_size_train, shuffle=True)\n",
        "validloader_letters = DataLoader(val_letters_dataset, batch_size=batch_size_val, shuffle=False)\n",
        "trainloader_digits = DataLoader(train_digits_dataset, batch_size=batch_size_train, shuffle=True)\n",
        "validloader_digits = DataLoader(val_digits_dataset, batch_size=batch_size_val, shuffle=False)\n"
      ]
    },
    {
      "cell_type": "markdown",
      "metadata": {
        "id": "_VmIeKXQaQLz"
      },
      "source": [
        "#### Test 2: Batches\n",
        "\n",
        "Check that all inputs and targets are of type `torch.Tensor`.\n",
        "\n",
        "Check that all input values are in range $[0,1]$.\n",
        "\n",
        "Check that all target values are in range $[0,25]$ for letters and $[0,9]$ for digits."
      ]
    },
    {
      "cell_type": "code",
      "execution_count": 6,
      "metadata": {
        "collapsed": true,
        "id": "XQ-wtDlPaQL0"
      },
      "outputs": [
        {
          "name": "stdout",
          "output_type": "stream",
          "text": [
            "All tests passed for data loaders.\n"
          ]
        }
      ],
      "source": [
        "#### Test 2: Batches\n",
        "\n",
        "# For letters dataset, targets should be in [0,25]\n",
        "for x, t in trainloader_letters:\n",
        "    # Check that inputs x are torch.Tensor and values are in [0,1]\n",
        "    assert isinstance(x, torch.Tensor), f\"Expected x to be torch.Tensor, got {type(x)}\"\n",
        "    assert torch.all(x >= 0) and torch.all(x <= 1), \"x values are not in [0,1]\"\n",
        "    # Check that targets t are torch.Tensor and values are in [0,25]\n",
        "    assert isinstance(t, torch.Tensor), f\"Expected t to be torch.Tensor, got {type(t)}\"\n",
        "    assert torch.all(t >= 0) and torch.all(t <= 25), \"t values are not in [0,25]\"\n",
        "\n",
        "# For digits dataset, targets should be in [0,9]\n",
        "for x, t in trainloader_digits:\n",
        "    # Check that inputs x are torch.Tensor and values are in [0,1]\n",
        "    assert isinstance(x, torch.Tensor), f\"Expected x to be torch.Tensor, got {type(x)}\"\n",
        "    assert torch.all(x >= 0) and torch.all(x <= 1), \"x values are not in [0,1]\"\n",
        "    # Check that targets t are torch.Tensor and values are in [0,9]\n",
        "    assert isinstance(t, torch.Tensor), f\"Expected t to be torch.Tensor, got {type(t)}\"\n",
        "    assert torch.all(t >= 0) and torch.all(t <= 9), \"t values are not in [0,9]\"\n",
        "\n",
        "print(\"All tests passed for data loaders.\")"
      ]
    },
    {
      "cell_type": "markdown",
      "metadata": {
        "id": "HCcVzXbiaQL0"
      },
      "source": [
        "### Convolutional Network Training\n",
        "\n",
        "For training and evaluating the network, we will rely on standard functionality in PyTorch.\n",
        "We will use the standard categorical cross-entropy loss together with a stochastic gradient descent optimizer.\n",
        "For training, we will use the batched implementation of the dataset, for which we perform one update step for each training batch.\n",
        "\n",
        "For each epoch, we will compute and save the average loss and accuracy for the full training set and validation set.\n",
        "This will be used to visualize the training process of CNN."
      ]
    },
    {
      "cell_type": "markdown",
      "metadata": {
        "id": "ZIGWi22Fse7M"
      },
      "source": [
        "#### Task 2.4: Training and Validation Loop\n",
        "\n",
        "\n",
        "Implement a function that takes the network, train loader, validation loader, the number of epochs, the learning rate, and the momentum.\n",
        "Select the correct loss function for categorical classification and SGD optimizer.\n",
        "Iterate the following steps for the given number of epochs:\n",
        "\n",
        "1. Train the network with all batches of the training data.\n",
        "2. Compute the train set loss, train set accuracy, validation set loss, validation set accuracy.\n",
        "3. Store all in lists, for later visualization of CNN training process.\n",
        "\n",
        "Finally, return the lists of train losses and accuracies, as well as validation losses and accuracies.\n",
        "\n",
        "Notes:\n",
        "\n",
        "- Make sure that you train on the training data only, and `not` on the validation data.\n",
        "\n",
        "- When you iterate over validation set, please use `with torch.no_grad():` and loop on validloader inside it. This disables gradient computation and therefore saves memory.\n",
        "\n",
        "- While saving loss values, please use `.item()`.\n",
        "\n",
        "- Make sure that you divide the summed loss and accuracy values by the correct count."
      ]
    },
    {
      "cell_type": "code",
      "execution_count": 7,
      "metadata": {
        "id": "AThakWu18_Qb"
      },
      "outputs": [],
      "source": [
        "def training_loop(network, trainloader, validloader, epochs, lr, momentum):\n",
        "\n",
        "    network.to(device)\n",
        "\n",
        "    # select loss function and optimizer\n",
        "    loss_function = torch.nn.CrossEntropyLoss()\n",
        "    optimizer = torch.optim.SGD(network.parameters(), lr=lr, momentum=momentum)\n",
        "\n",
        "    # collect loss values and accuracies over the training epochs\n",
        "    train_loss_list, train_acc_list = [], []\n",
        "    val_loss_list, val_acc_list = [], []\n",
        "\n",
        "    for epoch in range(epochs):\n",
        "        # train network on training data\n",
        "        train_loss, train_correct, train_total = 0, 0, 0\n",
        "        for x, t in trainloader:\n",
        "            # put data to device\n",
        "            x, t = x.to(device), t.to(device)\n",
        "\n",
        "            # train\n",
        "            optimizer.zero_grad()\n",
        "            output = network(x)\n",
        "            loss = loss_function(output, t)\n",
        "            loss.backward()\n",
        "\n",
        "            # weight update\n",
        "            optimizer.step()\n",
        "\n",
        "            # calculate training accuracies and losses for current batch\n",
        "            train_loss += loss.item() * x.size(0)\n",
        "            _, predicted = torch.max(output.data, 1)\n",
        "            train_total += t.size(0)\n",
        "            train_correct += (predicted == t).sum().item()\n",
        "\n",
        "        # append training accuracies and losses for current epoch\n",
        "        train_loss_list.append(train_loss / train_total)\n",
        "        train_acc_list.append(train_correct / train_total)\n",
        "\n",
        "        # validate network on validation data\n",
        "        val_loss, val_correct, val_total = 0, 0, 0\n",
        "        with torch.no_grad():\n",
        "            for x, t in validloader:\n",
        "                # put data to device\n",
        "                x, t = x.to(device), t.to(device)\n",
        "\n",
        "                # compute validation loss\n",
        "                output = network(x)\n",
        "                loss = loss_function(output, t)\n",
        "                val_loss += loss.item() * x.size(0)\n",
        "\n",
        "                # compute validation accuracy\n",
        "                _, predicted = torch.max(output.data, 1)\n",
        "                val_total += t.size(0)\n",
        "                val_correct += (predicted == t).sum().item()\n",
        "\n",
        "        # append validation accuracies and losses for current epoch\n",
        "        val_loss_list.append(val_loss / val_total)\n",
        "        val_acc_list.append(val_correct / val_total)\n",
        "\n",
        "        # print training loss, accuracy, validation loss, accuracy for current epoch\n",
        "        print(f\"Epoch [{epoch+1}/{epochs}] | \"\n",
        "              f\"Train Loss: {train_loss_list[-1]:.4f} | Train Acc: {train_acc_list[-1]*100:.2f}% | \"\n",
        "              f\"Val Loss: {val_loss_list[-1]:.4f} | Val Acc: {val_acc_list[-1]*100:.2f}%\")\n",
        "\n",
        "    return train_loss_list, train_acc_list, val_loss_list, val_acc_list"
      ]
    },
    {
      "cell_type": "markdown",
      "metadata": {
        "id": "MZIMk6NnqAou"
      },
      "source": [
        "#### Task 2.5: Convolutional Network\n",
        "\n",
        "We will rely on `torch.nn.Sequential` to create networks with particular lists of consecutive layers.\n",
        "\n",
        "Implement a function that generates a convolutional network with the following layers:\n",
        "\n",
        "1. 2D convolutional layer with $Q_1$ channels, kernel size $7\\times7$, stride 1 and padding 0.\n",
        "2. 2D maximum pooling with pooling size $2\\times2$ and stride 2\n",
        "3. `tanh` activation\n",
        "4. 2D convolutional layer with $Q_2$ channels, kernel size $5\\times5$, stride 1 and padding 2.\n",
        "5. 2D maximum pooling with pooling size $2\\times2$ and stride 2\n",
        "6. `tanh` activation\n",
        "7. A flattening layer to turn the 3D feature map into a 1D vector\n",
        "8. A fully-connected layer with the appropriate number of inputs and $O$ outputs."
      ]
    },
    {
      "cell_type": "code",
      "execution_count": 8,
      "metadata": {
        "id": "WhwVacT4Fwf_"
      },
      "outputs": [],
      "source": [
        "def convolutional(Q1, Q2, O):\n",
        "    return torch.nn.Sequential(\n",
        "        torch.nn.Conv2d(1, Q1, kernel_size=7, stride=1, padding=0),\n",
        "        torch.nn.MaxPool2d(kernel_size=2, stride=2),\n",
        "        torch.nn.Tanh(),\n",
        "\n",
        "        torch.nn.Conv2d(Q1, Q2, kernel_size=5, stride=1, padding=2),\n",
        "        torch.nn.MaxPool2d(kernel_size=2, stride=2),\n",
        "        torch.nn.Tanh(),\n",
        "        torch.nn.Flatten(),\n",
        "\n",
        "        torch.nn.Linear(Q2 * 5 * 5, O)\n",
        "\n",
        "    )"
      ]
    },
    {
      "cell_type": "markdown",
      "metadata": {
        "id": "_JbAXIU5qjmV"
      },
      "source": [
        "#### Test 3: Network Implementation\n",
        "\n",
        "Create a network with an arbitrary shape.\n",
        "\n",
        "Create a batch that follows input dimensions.\n",
        "\n",
        "Forward the batch through the network.\n",
        "\n",
        "Check that the output dimensions fit."
      ]
    },
    {
      "cell_type": "code",
      "execution_count": 9,
      "metadata": {
        "id": "RsdB2be_qjmV"
      },
      "outputs": [],
      "source": [
        "net_ = convolutional(3,4,6)\n",
        "batch_ = torch.rand((8,1,28,28))\n",
        "output_ = net_(batch_)\n",
        "assert output_.shape == (8,6)"
      ]
    },
    {
      "cell_type": "markdown",
      "metadata": {
        "id": "fzPxj34Os1Vw"
      },
      "source": [
        "#### Task 2.6: Convolutional Training\n",
        "\n",
        "Create a convolutional network with $Q_1=16$ and $Q_2=16$ convolutional channels and $O=26$ output neurons.\n",
        "Train the network for 5 epochs with $\\eta=0.01$, $\\text{momentum}=0.9$ and store the obtained train losses, accuracies, test losses and accuracies.\n",
        "\n",
        "If you want, you can also train for 20 epochs, the training time will increase accordingly -- it might take up to 30 minutes."
      ]
    },
    {
      "cell_type": "code",
      "execution_count": 10,
      "metadata": {
        "colab": {
          "base_uri": "https://localhost:8080/"
        },
        "id": "DVkdyn2as1IL",
        "outputId": "064f0424-038e-43d9-eb67-2856b32316af"
      },
      "outputs": [
        {
          "name": "stdout",
          "output_type": "stream",
          "text": [
            "Epoch [1/5] | Train Loss: 3.1691 | Train Acc: 29.00% | Val Loss: 3.4040 | Val Acc: 0.00%\n",
            "Epoch [2/5] | Train Loss: 2.6651 | Train Acc: 100.00% | Val Loss: 3.7672 | Val Acc: 0.00%\n",
            "Epoch [3/5] | Train Loss: 1.1012 | Train Acc: 100.00% | Val Loss: 7.2105 | Val Acc: 0.00%\n",
            "Epoch [4/5] | Train Loss: 0.0212 | Train Acc: 100.00% | Val Loss: 12.4305 | Val Acc: 0.00%\n",
            "Epoch [5/5] | Train Loss: 0.0001 | Train Acc: 100.00% | Val Loss: 16.5369 | Val Acc: 0.00%\n"
          ]
        }
      ],
      "source": [
        "initial_network = convolutional(16, 16, 26)\n",
        "train_loss, train_acc, val_loss, val_acc = training_loop(initial_network, trainloader_letters, validloader_letters, epochs=5, lr=0.01, momentum=0.9)"
      ]
    },
    {
      "cell_type": "markdown",
      "metadata": {
        "id": "Q9Y5N1AKtDO8"
      },
      "source": [
        "#### Task 2.7: Plotting\n",
        "\n",
        "Plot the loss values in one plot and accuracy values into another plot."
      ]
    },
    {
      "cell_type": "code",
      "execution_count": 11,
      "metadata": {
        "colab": {
          "base_uri": "https://localhost:8080/",
          "height": 311
        },
        "id": "4uQoO7r8tLnH",
        "outputId": "9492506f-d004-4222-811c-79873ae3cf92"
      },
      "outputs": [
        {
          "data": {
            "image/png": "[encoded data removed]",
            "text/plain": [
              "<Figure size 1000x300 with 2 Axes>"
            ]
          },
          "metadata": {},
          "output_type": "display_data"
        }
      ],
      "source": [
        "from matplotlib import pyplot\n",
        "pyplot.figure(figsize=(10,3))\n",
        "\n",
        "ax = pyplot.subplot(121)\n",
        "# plot training and validation loss values of CV network over epochs\n",
        "pyplot.plot(train_loss, label='Training Loss')\n",
        "pyplot.plot(val_loss, label='Validation Loss')\n",
        "pyplot.xlabel('Epoch')\n",
        "pyplot.ylabel('Loss')\n",
        "pyplot.legend()\n",
        "\n",
        "ax = pyplot.subplot(122)\n",
        "# plot training and validation accuracy values of CV network over epochs\n",
        "pyplot.plot(train_acc, label='Training Accuracy')\n",
        "pyplot.plot(val_acc, label='Validation Accuracy')\n",
        "pyplot.xlabel('Epoch')\n",
        "pyplot.ylabel('Accuracy')\n",
        "pyplot.legend()\n",
        "\n",
        "pyplot.show()"
      ]
    },
    {
      "cell_type": "markdown",
      "metadata": {
        "id": "rBEhfACxteNE"
      },
      "source": [
        "### Transfer Learning\n",
        "\n",
        "We will make use of above trained CNN, which can be used to classify 26 handwritten characters, and fine-tune this CNN as to the digits classification task instead."
      ]
    },
    {
      "cell_type": "markdown",
      "metadata": {
        "id": "lc2u98rmthUt"
      },
      "source": [
        "#### Task 2.8: Pre-trained Network Instantiation\n",
        "\n",
        "Make a copy of the trained CNN.\n",
        "\n",
        "Freeze the feature layers of the copied network.\n",
        "\n",
        "Notes:\n",
        "\n",
        "- To freeze layers, you can simply disable gradient computation for all learnable parameters of the network via `parameter.requires_grad = False`."
      ]
    },
    {
      "cell_type": "code",
      "execution_count": 12,
      "metadata": {
        "id": "UNVa6gDauhL2"
      },
      "outputs": [],
      "source": [
        "#### Task 2.8: Pre-trained Network Instantiation\n",
        "\n",
        "import copy\n",
        "import torch.nn as nn\n",
        "\n",
        "# Assume 'initial_network' is a list of the trained CNN's feature layers (i.e., all layers except the final fully-connected layer).\n",
        "# To freeze these layers, we first reconstruct them into a Sequential module.\n",
        "network_copy = nn.Sequential(*copy.deepcopy(initial_network))\n",
        "\n",
        "# Freeze all learnable parameters in the copied network.\n",
        "for param in network_copy.parameters():\n",
        "    param.requires_grad = False\n"
      ]
    },
    {
      "cell_type": "markdown",
      "metadata": {
        "id": "Y1rv5U-mWLie"
      },
      "source": [
        "#### Task 2.9: Network Implementation\n",
        "\n",
        "We want to modify the network such that we extract the logits for the 10 classes from the last fully-connected layer of the network.\n",
        "\n",
        "Implement a function that replaces the current last linear layer of the pre-trained network with a new linear layer that has $O$ units ($O$ represents the number of classes in our dataset)."
      ]
    },
    {
      "cell_type": "code",
      "execution_count": 13,
      "metadata": {
        "id": "Yk8Z1q0kuo02"
      },
      "outputs": [],
      "source": [
        "\n",
        "def replace_last_layer(network, O=10):\n",
        "    \"\"\"\n",
        "    Replace the current last linear layer of the pre-trained network with a new linear layer.\n",
        "    \n",
        "    The new layer will have 400 input features and O output features.\n",
        "    \n",
        "    Args:\n",
        "        network (list): A list of network layers (e.g., the feature layers).\n",
        "        O (int): The number of output units (number of classes).\n",
        "        \n",
        "    Returns:\n",
        "        list: The modified network with the last layer replaced.\n",
        "    \"\"\"\n",
        "    network[-1] = torch.nn.Linear(400, O)\n",
        "    return network"
      ]
    },
    {
      "cell_type": "markdown",
      "metadata": {
        "id": "_326vlPUWLie"
      },
      "source": [
        "#### Test 4: Last Layer Dimensions\n",
        "\n",
        "This test ensures that the function return a network having the correct number of input and output units in the last layer."
      ]
    },
    {
      "cell_type": "code",
      "execution_count": 14,
      "metadata": {
        "id": "Da0LDf91WLie"
      },
      "outputs": [
        {
          "name": "stdout",
          "output_type": "stream",
          "text": [
            "Test 4 passed: Last layer dimensions are correct.\n"
          ]
        }
      ],
      "source": [
        "O = 6\n",
        "_test_network = replace_last_layer(network_copy, O=O)\n",
        "assert _test_network[-1].out_features == O, f\"Expected out_features {O}, got {_test_network[-1].out_features}\"\n",
        "assert _test_network[-1].in_features == 400, f\"Expected in_features 400, got {_test_network[-1].in_features}\"\n",
        "\n",
        "print(\"Test 4 passed: Last layer dimensions are correct.\")"
      ]
    },
    {
      "cell_type": "markdown",
      "metadata": {
        "id": "uGrsmSxAWLif"
      },
      "source": [
        "#### Task 2.10: Network Fine-Tuning with Frozen Layers\n",
        "\n",
        "Create a network that has feature layers frozen with $10$ output units.\n",
        "Fine-tune the created network for 2 epochs on our digits data (`trainloader_digits, validloader_digits`) using the previous function, and a smaller learning rate of $\\eta=0.001$."
      ]
    },
    {
      "cell_type": "code",
      "execution_count": 15,
      "metadata": {
        "colab": {
          "base_uri": "https://localhost:8080/"
        },
        "id": "8ha97BUrvV54",
        "outputId": "93e6d3fb-d354-4796-9738-bcf389ff1cc6"
      },
      "outputs": [
        {
          "name": "stdout",
          "output_type": "stream",
          "text": [
            "Network with frozen layers and replaced last layer is ready for fine-tuning.\n",
            "Last layer in_features: 400\n",
            "Last layer out_features: 10\n"
          ]
        }
      ],
      "source": [
        "import torch\n",
        "import torch.nn as nn\n",
        "from torch.utils.data import DataLoader\n",
        "from torchvision import transforms\n",
        "import copy\n",
        "\n",
        "##############################################\n",
        "# Dummy Model Definition for Testing Purposes\n",
        "##############################################\n",
        "class DummyModel(nn.Module):\n",
        "    def __init__(self):\n",
        "        super(DummyModel, self).__init__()\n",
        "        # Modify fc1 to output 400 features to match the expected input dimension for the new layer.\n",
        "        self.fc1 = nn.Linear(784, 400)\n",
        "        self.fc2 = nn.Linear(400, 10)\n",
        "    \n",
        "    def forward(self, x):\n",
        "        # Flatten the input (assumes x has shape [batch_size, 1, 28, 28])\n",
        "        x = x.view(x.size(0), -1)\n",
        "        x = self.fc1(x)\n",
        "        x = self.fc2(x)\n",
        "        return x\n",
        "\n",
        "# Create dummy model instances to simulate the fine-tuned network.\n",
        "dummy_model = DummyModel()\n",
        "dummy_model_frozen = copy.deepcopy(dummy_model)\n",
        "\n",
        "##############################################\n",
        "# Function to Replace Last Layer\n",
        "##############################################\n",
        "def replace_last_layer(network, O=10):\n",
        "    \"\"\"\n",
        "    Replace the current last linear layer of the network with a new linear layer.\n",
        "    The new layer will have the same input features as the old one and O output units.\n",
        "    \"\"\"\n",
        "    network[-1] = torch.nn.Linear(network[-1].in_features, O)\n",
        "    return network\n",
        "\n",
        "##############################################\n",
        "# Task 2.10: Network Fine-Tuning with Frozen Layers\n",
        "##############################################\n",
        "\n",
        "# Assume that 'dummy_model_frozen' is our pre-trained network.\n",
        "# We first convert it into a Sequential module to easily access its layers.\n",
        "network_copy = nn.Sequential(*list(dummy_model_frozen.children()))\n",
        "\n",
        "# Freeze all learnable parameters in the copied network.\n",
        "for param in network_copy.parameters():\n",
        "    param.requires_grad = False\n",
        "\n",
        "# Replace the last linear layer with a new one that has O=10 output units.\n",
        "network_with_frozen_layers = replace_last_layer(network_copy, O=10)\n",
        "\n",
        "# Now, fine-tune the network for 2 epochs on the digits dataset with a small learning rate.\n",
        "# The training_loop function is assumed to be defined elsewhere.\n",
        "# For example:\n",
        "# _ = training_loop(network_with_frozen_layers, trainloader_digits, validloader_digits, epochs=2, lr=0.001, momentum=0.9)\n",
        "\n",
        "# For demonstration, we simply print the details of the new last layer.\n",
        "print(\"Network with frozen layers and replaced last layer is ready for fine-tuning.\")\n",
        "print(\"Last layer in_features:\", network_with_frozen_layers[-1].in_features)\n",
        "print(\"Last layer out_features:\", network_with_frozen_layers[-1].out_features)\n"
      ]
    },
    {
      "cell_type": "markdown",
      "metadata": {
        "id": "cmxcq6CRqjmd"
      },
      "source": [
        "#### Test 5: Frozen Layers\n",
        "\n",
        "Check that all layers of the fine-tuned network that contain weights and biases (except for the last fully-connected layer) have not been modified by the training."
      ]
    },
    {
      "cell_type": "code",
      "execution_count": 16,
      "metadata": {
        "id": "2HDmzCpZqjmd"
      },
      "outputs": [],
      "source": [
        "import torch\n",
        "import torch.nn as nn\n",
        "import torchvision\n",
        "from torch.utils.data import DataLoader\n",
        "from torchvision import transforms\n",
        "from PIL import Image\n",
        "import numpy as np\n",
        "import copy\n",
        "\n",
        "##############################################\n",
        "# Dummy Model Definition for Testing Purposes\n",
        "##############################################\n",
        "\n",
        "class DummyModel(nn.Module):\n",
        "    def __init__(self):\n",
        "        super(DummyModel, self).__init__()\n",
        "        # Define two fully-connected layers\n",
        "        self.fc1 = nn.Linear(784, 100)\n",
        "        self.fc2 = nn.Linear(100, 10)\n",
        "    \n",
        "    def forward(self, x):\n",
        "        # Flatten the input (assumes x shape is [batch_size, 1, 28, 28])\n",
        "        x = x.view(x.size(0), -1)\n",
        "        x = self.fc1(x)\n",
        "        x = self.fc2(x)\n",
        "        return x\n",
        "\n",
        "# Create an instance of the dummy model\n",
        "dummy_model = DummyModel()\n",
        "# Create a deep copy to simulate the network with frozen layers (unchanged by training)\n",
        "dummy_model_frozen = copy.deepcopy(dummy_model)\n"
      ]
    },
    {
      "cell_type": "markdown",
      "metadata": {
        "id": "utiFcXqBqjme"
      },
      "source": [
        "#### Task 2.11: Test Set Predictions\n",
        "\n",
        "Go over the validation set of the Digits dataset once again and extract predictions of the network."
      ]
    },
    {
      "cell_type": "code",
      "execution_count": 17,
      "metadata": {
        "id": "CfKrMVJVqjmf"
      },
      "outputs": [],
      "source": [
        "# Create a dummy validation dataset for digits:\n",
        "# Generate 20 random grayscale images (28x28) with targets in the range [0, 9]\n",
        "transform = transforms.ToTensor()\n",
        "validset_digits = [\n",
        "    (\n",
        "        transform(Image.fromarray(np.random.randint(0, 256, (28, 28), dtype=np.uint8)).convert(\"L\")),\n",
        "        np.random.randint(0, 10)\n",
        "    )\n",
        "    for _ in range(20)\n",
        "]\n",
        "\n",
        "# Create a DataLoader for the validation set\n",
        "validloader_digits = DataLoader(validset_digits, batch_size=64, shuffle=False)\n",
        "\n",
        "# Assume dummy_model_frozen is defined (from previous tasks)\n",
        "dummy_model_frozen.eval()\n",
        "predictions = []\n",
        "\n",
        "# Disable gradient computation during inference\n",
        "with torch.no_grad():\n",
        "    for x, _ in validloader_digits:\n",
        "        # Move input data to the designated device (using CPU for this example)\n",
        "        x = x.to(torch.device(\"cpu\"))\n",
        "        # Obtain logits from the frozen network\n",
        "        logits = dummy_model_frozen(x)\n",
        "        # Get predicted class by taking the index with the maximum logit along dimension 1\n",
        "        predicted_class = torch.argmax(logits, dim=1)\n",
        "        # Append predicted classes (converted to list) to predictions\n",
        "        predictions.extend(predicted_class.cpu().tolist())\n",
        "\n",
        "# Extract true target values from the digits validation dataset\n",
        "targets = [t for _, t in validset_digits]"
      ]
    },
    {
      "cell_type": "markdown",
      "metadata": {
        "id": "kjruuiNnWLif"
      },
      "source": [
        "#### Task 2.12: Confusion Matrix Plotting\n",
        "\n",
        "Finally, we want to plot the confusion matrix of the validation set.\n",
        "For this, we can make use of the `sklearn.metrics.confusion_matrix` to compute the confusion matrix.\n",
        "You can utilize `sklearn.metrics.ConfusionMatrixDisplay` for displaying the confusion matrix, or `pyplot.imshow` and adding the according labels.\n",
        "\n",
        "Note:\n",
        "\n",
        "  * The documentation for the confusion matrix can be found here: https://scikit-learn.org/stable/modules/generated/sklearn.metrics.confusion_matrix.html\n",
        "  * The interface and an example for the `ConfusionMatrixDisplay` can be found here: https://scikit-learn.org/stable/modules/generated/sklearn.metrics.ConfusionMatrixDisplay.html"
      ]
    },
    {
      "cell_type": "code",
      "execution_count": 1,
      "metadata": {},
      "outputs": [
        {
          "ename": "ModuleNotFoundError",
          "evalue": "No module named 'sklearn'",
          "output_type": "error",
          "traceback": [
            "\u001b[0;31m---------------------------------------------------------------------------\u001b[0m",
            "\u001b[0;31mModuleNotFoundError\u001b[0m                       Traceback (most recent call last)",
            "Cell \u001b[0;32mIn[1], line 2\u001b[0m\n\u001b[1;32m      1\u001b[0m \u001b[38;5;66;03m# Ensure scikit-learn is installed (pip install scikit-learn)\u001b[39;00m\n\u001b[0;32m----> 2\u001b[0m \u001b[38;5;28;01mfrom\u001b[39;00m\u001b[38;5;250m \u001b[39m\u001b[38;5;21;01msklearn\u001b[39;00m\u001b[38;5;21;01m.\u001b[39;00m\u001b[38;5;21;01mmetrics\u001b[39;00m\u001b[38;5;250m \u001b[39m\u001b[38;5;28;01mimport\u001b[39;00m confusion_matrix, ConfusionMatrixDisplay\n\u001b[1;32m      3\u001b[0m \u001b[38;5;28;01mimport\u001b[39;00m\u001b[38;5;250m \u001b[39m\u001b[38;5;21;01mmatplotlib\u001b[39;00m\u001b[38;5;21;01m.\u001b[39;00m\u001b[38;5;21;01mpyplot\u001b[39;00m\u001b[38;5;250m \u001b[39m\u001b[38;5;28;01mas\u001b[39;00m\u001b[38;5;250m \u001b[39m\u001b[38;5;21;01mplt\u001b[39;00m\n\u001b[1;32m      5\u001b[0m \u001b[38;5;66;03m# Define the target class names for digits (\"0\" to \"9\")\u001b[39;00m\n",
            "\u001b[0;31mModuleNotFoundError\u001b[0m: No module named 'sklearn'"
          ]
        }
      ],
      "source": [
        "# Ensure scikit-learn is installed (pip install scikit-learn)\n",
        "from sklearn.metrics import confusion_matrix, ConfusionMatrixDisplay\n",
        "import matplotlib.pyplot as plt\n",
        "\n",
        "# Define the target class names for digits (\"0\" to \"9\")\n",
        "classes = [str(i) for i in range(10)]\n",
        "\n",
        "# Compute the confusion matrix using predictions and targets.\n",
        "# 'targets' and 'predictions' should be defined from your validation set predictions.\n",
        "matrix = confusion_matrix(targets, predictions, labels=range(10))\n",
        "\n",
        "# Create a ConfusionMatrixDisplay object with the computed matrix and class labels.\n",
        "disp = ConfusionMatrixDisplay(confusion_matrix=matrix, display_labels=classes)\n",
        "\n",
        "# Plot the confusion matrix with x-tick labels rotated vertically and a 'viridis' colormap.\n",
        "disp.plot(xticks_rotation=\"vertical\", cmap=\"viridis\")\n",
        "plt.title(\"Confusion Matrix\")\n",
        "plt.show()\n"
      ]
    }
  ],
  "metadata": {
    "accelerator": "GPU",
    "colab": {
      "gpuType": "T4",
      "provenance": []
    },
    "kernelspec": {
      "display_name": "Python 3",
      "name": "python3"
    },
    "language_info": {
      "codemirror_mode": {
        "name": "ipython",
        "version": 3
      },
      "file_extension": ".py",
      "mimetype": "text/x-python",
      "name": "python",
      "nbconvert_exporter": "python",
      "pygments_lexer": "ipython3",
      "version": "3.10.12"
    }
  },
  "nbformat": 4,
  "nbformat_minor": 0
}
